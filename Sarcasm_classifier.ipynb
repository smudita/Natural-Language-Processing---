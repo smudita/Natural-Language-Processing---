{
  "nbformat": 4,
  "nbformat_minor": 0,
  "metadata": {
    "colab": {
      "name": "Sarcasm classifier.ipynb",
      "provenance": [],
      "authorship_tag": "ABX9TyMkqybBog2SzXbpBp3uAGrj",
      "include_colab_link": true
    },
    "kernelspec": {
      "name": "python3",
      "display_name": "Python 3"
    },
    "language_info": {
      "name": "python"
    }
  },
  "cells": [
    {
      "cell_type": "markdown",
      "metadata": {
        "id": "view-in-github",
        "colab_type": "text"
      },
      "source": [
        "<a href=\"https://colab.research.google.com/github/smudita/Natural-Language-Processing---/blob/main/Sarcasm_classifier.ipynb\" target=\"_parent\"><img src=\"https://colab.research.google.com/assets/colab-badge.svg\" alt=\"Open In Colab\"/></a>"
      ]
    },
    {
      "cell_type": "code",
      "metadata": {
        "id": "YMSoVjBdIQxO"
      },
      "source": [
        "import json\n",
        "import tensorflow as tf\n",
        "\n",
        "from tensorflow.keras.preprocessing.text import Tokenizer\n",
        "from tensorflow.keras.preprocessing.sequence import pad_sequences"
      ],
      "execution_count": null,
      "outputs": []
    },
    {
      "cell_type": "code",
      "metadata": {
        "colab": {
          "base_uri": "https://localhost:8080/"
        },
        "id": "gchz5eeLJCg1",
        "outputId": "5eef081a-8028-4866-8a9b-a13610734b36"
      },
      "source": [
        "# sarcasm.json\n",
        "!gdown --id 1xRU3xY5-tkiPGvlz5xBJ18_pHWSRzI4v"
      ],
      "execution_count": null,
      "outputs": [
        {
          "output_type": "stream",
          "name": "stdout",
          "text": [
            "Downloading...\n",
            "From: https://drive.google.com/uc?id=1xRU3xY5-tkiPGvlz5xBJ18_pHWSRzI4v\n",
            "To: /content/sarcasm.json\n",
            "5.64MB [00:00, 4.26MB/s]\n"
          ]
        }
      ]
    },
    {
      "cell_type": "code",
      "metadata": {
        "colab": {
          "base_uri": "https://localhost:8080/"
        },
        "id": "RYGDmjmHJGBY",
        "outputId": "46fba7c3-fa2e-4918-9e94-3f0442921bc1"
      },
      "source": [
        "with open(\"./sarcasm.json\", 'r') as f:\n",
        "    datastore = json.load(f)\n",
        "print(len(datastore))\n",
        "sentences=[]\n",
        "labels=[]\n",
        "\n",
        "for i in datastore:\n",
        "  sentences.append(i['headline'])\n",
        "  labels.append(i['is_sarcastic'])"
      ],
      "execution_count": null,
      "outputs": [
        {
          "output_type": "stream",
          "name": "stdout",
          "text": [
            "26709\n"
          ]
        }
      ]
    },
    {
      "cell_type": "code",
      "metadata": {
        "id": "Muo-RQC7JvZl"
      },
      "source": [
        "training_size= 20000   # lets train on 20k and validate on the rest\n",
        "training_sentences= sentences[0:training_size]\n",
        "testing_sentences=sentences[training_size:]\n",
        "\n",
        "training_labels= labels[0:training_size]\n",
        "testing_labels=labels[training_size:]"
      ],
      "execution_count": null,
      "outputs": []
    },
    {
      "cell_type": "code",
      "metadata": {
        "id": "nGXTJWp_LPvH"
      },
      "source": [
        "oov_tok= \"<OOV>\"\n",
        "vocab_size = 10000\n",
        "tokenizer = Tokenizer(vocab_size,oov_tok)\n",
        "tokenizer.fit_on_texts(training_sentences)   \n",
        "\n",
        "word_index = tokenizer.word_index \n",
        "\n"
      ],
      "execution_count": null,
      "outputs": []
    },
    {
      "cell_type": "code",
      "metadata": {
        "id": "jmYfM50XM2vy"
      },
      "source": [
        "max_length = 1000\n",
        "trunc_type='post'\n",
        "padding_type='post'\n",
        "\n",
        "#training data\n",
        "training_sequences = tokenizer.texts_to_sequences(training_sentences) \n",
        "training_padded = pad_sequences(training_sequences, max_length,padding=padding_type,truncating=trunc_type)  \n",
        "\n",
        "#testing/validation data\n",
        "testing_sequences = tokenizer.texts_to_sequences(testing_sentences) \n",
        "testing_padded = pad_sequences(testing_sequences, max_length,padding=padding_type,truncating=trunc_type)  "
      ],
      "execution_count": null,
      "outputs": []
    },
    {
      "cell_type": "code",
      "metadata": {
        "id": "1F_qB444OE8i"
      },
      "source": [
        "embedding_dim = 16\n",
        "model = tf.keras.Sequential([\n",
        "    tf.keras.layers.Embedding(vocab_size, embedding_dim, input_length=max_length),\n",
        "    tf.keras.layers.GlobalAveragePooling1D(),\n",
        "    tf.keras.layers.Dense(24, activation='relu'),\n",
        "    tf.keras.layers.Dense(1, activation='sigmoid')\n",
        "])\n",
        "model.compile(loss='binary_crossentropy',optimizer='adam',metrics=['accuracy'])"
      ],
      "execution_count": null,
      "outputs": []
    },
    {
      "cell_type": "code",
      "metadata": {
        "colab": {
          "base_uri": "https://localhost:8080/"
        },
        "id": "GeXLYfJdRW3y",
        "outputId": "e1ee7961-9780-4638-900b-377b695418ae"
      },
      "source": [
        "model.summary()"
      ],
      "execution_count": null,
      "outputs": [
        {
          "output_type": "stream",
          "name": "stdout",
          "text": [
            "Model: \"sequential_2\"\n",
            "_________________________________________________________________\n",
            "Layer (type)                 Output Shape              Param #   \n",
            "=================================================================\n",
            "embedding_2 (Embedding)      (None, 1000, 16)          160000    \n",
            "_________________________________________________________________\n",
            "global_average_pooling1d_2 ( (None, 16)                0         \n",
            "_________________________________________________________________\n",
            "dense_4 (Dense)              (None, 24)                408       \n",
            "_________________________________________________________________\n",
            "dense_5 (Dense)              (None, 1)                 25        \n",
            "=================================================================\n",
            "Total params: 160,433\n",
            "Trainable params: 160,433\n",
            "Non-trainable params: 0\n",
            "_________________________________________________________________\n"
          ]
        }
      ]
    },
    {
      "cell_type": "code",
      "metadata": {
        "id": "HZsZJY9bRXdB"
      },
      "source": [
        "# Need this block to get it to work with TensorFlow 2.x\n",
        "import numpy as np\n",
        "training_padded = np.array(training_padded)\n",
        "training_labels = np.array(training_labels)\n",
        "testing_padded = np.array(testing_padded)\n",
        "testing_labels = np.array(testing_labels)"
      ],
      "execution_count": null,
      "outputs": []
    },
    {
      "cell_type": "code",
      "metadata": {
        "colab": {
          "base_uri": "https://localhost:8080/"
        },
        "id": "xFWaaFPbSMeS",
        "outputId": "6c6cd354-615e-418f-d786-de6d275f8e49"
      },
      "source": [
        "num_epochs = 30\n",
        "history = model.fit(training_padded, training_labels, epochs=num_epochs, validation_data=(testing_padded, testing_labels), verbose=2)"
      ],
      "execution_count": null,
      "outputs": [
        {
          "output_type": "stream",
          "name": "stdout",
          "text": [
            "Epoch 1/30\n",
            "625/625 - 4s - loss: 0.6862 - accuracy: 0.5593 - val_loss: 0.6848 - val_accuracy: 0.5633\n",
            "Epoch 2/30\n",
            "625/625 - 3s - loss: 0.6837 - accuracy: 0.5603 - val_loss: 0.6808 - val_accuracy: 0.5633\n",
            "Epoch 3/30\n",
            "625/625 - 3s - loss: 0.6633 - accuracy: 0.5824 - val_loss: 0.6297 - val_accuracy: 0.6198\n",
            "Epoch 4/30\n",
            "625/625 - 3s - loss: 0.5592 - accuracy: 0.7617 - val_loss: 0.5082 - val_accuracy: 0.7520\n",
            "Epoch 5/30\n",
            "625/625 - 3s - loss: 0.4396 - accuracy: 0.8281 - val_loss: 0.4304 - val_accuracy: 0.8168\n",
            "Epoch 6/30\n",
            "625/625 - 3s - loss: 0.3783 - accuracy: 0.8498 - val_loss: 0.3991 - val_accuracy: 0.8317\n",
            "Epoch 7/30\n",
            "625/625 - 3s - loss: 0.3473 - accuracy: 0.8615 - val_loss: 0.4222 - val_accuracy: 0.7980\n",
            "Epoch 8/30\n",
            "625/625 - 3s - loss: 0.3229 - accuracy: 0.8704 - val_loss: 0.3741 - val_accuracy: 0.8425\n",
            "Epoch 9/30\n",
            "625/625 - 3s - loss: 0.3052 - accuracy: 0.8785 - val_loss: 0.3679 - val_accuracy: 0.8445\n",
            "Epoch 10/30\n",
            "625/625 - 3s - loss: 0.2890 - accuracy: 0.8839 - val_loss: 0.3614 - val_accuracy: 0.8463\n",
            "Epoch 11/30\n",
            "625/625 - 3s - loss: 0.2747 - accuracy: 0.8903 - val_loss: 0.3554 - val_accuracy: 0.8501\n",
            "Epoch 12/30\n",
            "625/625 - 3s - loss: 0.2669 - accuracy: 0.8927 - val_loss: 0.3536 - val_accuracy: 0.8517\n",
            "Epoch 13/30\n",
            "625/625 - 3s - loss: 0.2508 - accuracy: 0.9017 - val_loss: 0.3502 - val_accuracy: 0.8520\n",
            "Epoch 14/30\n",
            "625/625 - 3s - loss: 0.2364 - accuracy: 0.9093 - val_loss: 0.3586 - val_accuracy: 0.8501\n",
            "Epoch 15/30\n",
            "625/625 - 3s - loss: 0.2283 - accuracy: 0.9104 - val_loss: 0.3493 - val_accuracy: 0.8518\n",
            "Epoch 16/30\n",
            "625/625 - 3s - loss: 0.2200 - accuracy: 0.9136 - val_loss: 0.3627 - val_accuracy: 0.8466\n",
            "Epoch 17/30\n",
            "625/625 - 3s - loss: 0.2090 - accuracy: 0.9219 - val_loss: 0.3515 - val_accuracy: 0.8517\n",
            "Epoch 18/30\n",
            "625/625 - 3s - loss: 0.2012 - accuracy: 0.9227 - val_loss: 0.3563 - val_accuracy: 0.8489\n",
            "Epoch 19/30\n",
            "625/625 - 3s - loss: 0.1909 - accuracy: 0.9266 - val_loss: 0.3553 - val_accuracy: 0.8511\n",
            "Epoch 20/30\n",
            "625/625 - 3s - loss: 0.1853 - accuracy: 0.9273 - val_loss: 0.3605 - val_accuracy: 0.8502\n",
            "Epoch 21/30\n",
            "625/625 - 3s - loss: 0.1783 - accuracy: 0.9318 - val_loss: 0.3719 - val_accuracy: 0.8517\n",
            "Epoch 22/30\n",
            "625/625 - 3s - loss: 0.1729 - accuracy: 0.9344 - val_loss: 0.3809 - val_accuracy: 0.8456\n",
            "Epoch 23/30\n",
            "625/625 - 3s - loss: 0.1696 - accuracy: 0.9349 - val_loss: 0.4121 - val_accuracy: 0.8360\n",
            "Epoch 24/30\n",
            "625/625 - 3s - loss: 0.1631 - accuracy: 0.9370 - val_loss: 0.3941 - val_accuracy: 0.8447\n",
            "Epoch 25/30\n",
            "625/625 - 3s - loss: 0.1522 - accuracy: 0.9430 - val_loss: 0.4099 - val_accuracy: 0.8414\n",
            "Epoch 26/30\n",
            "625/625 - 3s - loss: 0.1514 - accuracy: 0.9410 - val_loss: 0.3837 - val_accuracy: 0.8536\n",
            "Epoch 27/30\n",
            "625/625 - 3s - loss: 0.1437 - accuracy: 0.9481 - val_loss: 0.3948 - val_accuracy: 0.8514\n",
            "Epoch 28/30\n",
            "625/625 - 3s - loss: 0.1409 - accuracy: 0.9478 - val_loss: 0.4090 - val_accuracy: 0.8451\n",
            "Epoch 29/30\n",
            "625/625 - 3s - loss: 0.1344 - accuracy: 0.9505 - val_loss: 0.4029 - val_accuracy: 0.8515\n",
            "Epoch 30/30\n",
            "625/625 - 3s - loss: 0.1321 - accuracy: 0.9496 - val_loss: 0.4101 - val_accuracy: 0.8501\n"
          ]
        }
      ]
    },
    {
      "cell_type": "code",
      "metadata": {
        "colab": {
          "base_uri": "https://localhost:8080/",
          "height": 541
        },
        "id": "ojE06pMFSlCF",
        "outputId": "6d1986c8-8a90-4cd2-8bcf-cfc6d5e99890"
      },
      "source": [
        "import matplotlib.pyplot as plt\n",
        "\n",
        "\n",
        "def plot_graphs(history, string):\n",
        "  plt.plot(history.history[string])\n",
        "  plt.plot(history.history['val_'+string])\n",
        "  plt.xlabel(\"Epochs\")\n",
        "  plt.ylabel(string)\n",
        "  plt.legend([string, 'val_'+string])\n",
        "  plt.show()\n",
        "  \n",
        "plot_graphs(history, \"accuracy\")\n",
        "plot_graphs(history, \"loss\")"
      ],
      "execution_count": null,
      "outputs": [
        {
          "output_type": "display_data",
          "data": {
            "image/png": "[encoded data removed]",
            "text/plain": [
              "<Figure size 432x288 with 1 Axes>"
            ]
          },
          "metadata": {
            "needs_background": "light"
          }
        },
        {
          "output_type": "display_data",
          "data": {
            "image/png": "[encoded data removed]",
            "text/plain": [
              "<Figure size 432x288 with 1 Axes>"
            ]
          },
          "metadata": {
            "needs_background": "light"
          }
        }
      ]
    },
    {
      "cell_type": "markdown",
      "metadata": {
        "id": "7e1t9A_PluSv"
      },
      "source": [
        "Here the accuracy is increasing but loss function is decreasing .So while the number of accurate predictions increased over time, what was interesting was that the confidence per prediction effectively decreased\n",
        "We can tweak the hyperparameters to get better outcomes for this we can put the hyperparameters as separate variables:\n"
      ]
    },
    {
      "cell_type": "code",
      "metadata": {
        "colab": {
          "base_uri": "https://localhost:8080/",
          "height": 53
        },
        "id": "OfuaqdQ_T9ln",
        "outputId": "102db11e-80de-448e-ad45-6b2a70731d21"
      },
      "source": [
        "\n",
        "\"\"\"\n",
        "vocab_size = 100\n",
        "embedding_dim = 32\n",
        "max_length = 100\n",
        "trunc_type='post'\n",
        "padding_type='post'\n",
        "oov_tok = \"<OOV>\"\n",
        "training_size = 20000\n",
        "\"\"\"\n"
      ],
      "execution_count": null,
      "outputs": [
        {
          "output_type": "execute_result",
          "data": {
            "application/vnd.google.colaboratory.intrinsic+json": {
              "type": "string"
            },
            "text/plain": [
              "'\\n   vocab_size = 100\\n  embedding_dim = 32\\n  max_length = 100\\n  trunc_type=\\'post\\'\\n  padding_type=\\'post\\'\\n  oov_tok = \"<OOV>\"\\n  training_size = 20000\\n'"
            ]
          },
          "metadata": {},
          "execution_count": 41
        }
      ]
    },
    {
      "cell_type": "code",
      "metadata": {
        "colab": {
          "base_uri": "https://localhost:8080/"
        },
        "id": "wrH6guC6Wtra",
        "outputId": "b7947eea-661c-4f44-ad8b-5067a9d529c4"
      },
      "source": [
        "reverse_word_index = dict([(value, key) for (key, value) in word_index.items()])\n",
        "\n",
        "def decode_sentence(text):\n",
        "    return ' '.join([reverse_word_index.get(i, '?') for i in text])\n",
        "\n",
        "print(decode_sentence(training_padded[0]))\n",
        "print(training_sentences[2])\n",
        "print(labels[2])"
      ],
      "execution_count": null,
      "outputs": [
        {
          "output_type": "stream",
          "name": "stdout",
          "text": [
            "former store clerk sues over secret 'black for minority ? ? ? ? ? ? ? ? ? ? ? ? ? ? ? ? ? ? ? ? ? ? ? ? ? ? ? ? ? ? ? ? ? ? ? ? ? ? ? ? ? ? ? ? ? ? ? ? ? ? ? ? ? ? ? ? ? ? ? ? ? ? ? ? ? ? ? ? ? ? ? ? ? ? ? ? ? ? ? ? ? ? ? ? ? ? ? ? ? ? ? ? ? ? ? ? ? ? ? ? ? ? ? ? ? ? ? ? ? ? ? ? ? ? ? ? ? ? ? ? ? ? ? ? ? ? ? ? ? ? ? ? ? ? ? ? ? ? ? ? ? ? ? ? ? ? ? ? ? ? ? ? ? ? ? ? ? ? ? ? ? ? ? ? ? ? ? ? ? ? ? ? ? ? ? ? ? ? ? ? ? ? ? ? ? ? ? ? ? ? ? ? ? ? ? ? ? ? ? ? ? ? ? ? ? ? ? ? ? ? ? ? ? ? ? ? ? ? ? ? ? ? ? ? ? ? ? ? ? ? ? ? ? ? ? ? ? ? ? ? ? ? ? ? ? ? ? ? ? ? ? ? ? ? ? ? ? ? ? ? ? ? ? ? ? ? ? ? ? ? ? ? ? ? ? ? ? ? ? ? ? ? ? ? ? ? ? ? ? ? ? ? ? ? ? ? ? ? ? ? ? ? ? ? ? ? ? ? ? ? ? ? ? ? ? ? ? ? ? ? ? ? ? ? ? ? ? ? ? ? ? ? ? ? ? ? ? ? ? ? ? ? ? ? ? ? ? ? ? ? ? ? ? ? ? ? ? ? ? ? ? ? ? ? ? ? ? ? ? ? ? ? ? ? ? ? ? ? ? ? ? ? ? ? ? ? ? ? ? ? ? ? ? ? ? ? ? ? ? ? ? ? ? ? ? ? ? ? ? ? ? ? ? ? ? ? ? ? ? ? ? ? ? ? ? ? ? ? ? ? ? ? ? ? ? ? ? ? ? ? ? ? ? ? ? ? ? ? ? ? ? ? ? ? ? ? ? ? ? ? ? ? ? ? ? ? ? ? ? ? ? ? ? ? ? ? ? ? ? ? ? ? ? ? ? ? ? ? ? ? ? ? ? ? ? ? ? ? ? ? ? ? ? ? ? ? ? ? ? ? ? ? ? ? ? ? ? ? ? ? ? ? ? ? ? ? ? ? ? ? ? ? ? ? ? ? ? ? ? ? ? ? ? ? ? ? ? ? ? ? ? ? ? ? ? ? ? ? ? ? ? ? ? ? ? ? ? ? ? ? ? ? ? ? ? ? ? ? ? ? ? ? ? ? ? ? ? ? ? ? ? ? ? ? ? ? ? ? ? ? ? ? ? ? ? ? ? ? ? ? ? ? ? ? ? ? ? ? ? ? ? ? ? ? ? ? ? ? ? ? ? ? ? ? ? ? ? ? ? ? ? ? ? ? ? ? ? ? ? ? ? ? ? ? ? ? ? ? ? ? ? ? ? ? ? ? ? ? ? ? ? ? ? ? ? ? ? ? ? ? ? ? ? ? ? ? ? ? ? ? ? ? ? ? ? ? ? ? ? ? ? ? ? ? ? ? ? ? ? ? ? ? ? ? ? ? ? ? ? ? ? ? ? ? ? ? ? ? ? ? ? ? ? ? ? ? ? ? ? ? ? ? ? ? ? ? ? ? ? ? ? ? ? ? ? ? ? ? ? ? ? ? ? ? ? ? ? ? ? ? ? ? ? ? ? ? ? ? ? ? ? ? ? ? ? ? ? ? ? ? ? ? ? ? ? ? ? ? ? ? ? ? ? ? ? ? ? ? ? ? ? ? ? ? ? ? ? ? ? ? ? ? ? ? ? ? ? ? ? ? ? ? ? ? ? ? ? ? ? ? ? ? ? ? ? ? ? ? ? ? ? ? ? ? ? ? ? ? ? ? ? ? ? ? ? ? ? ? ? ? ? ? ? ? ? ? ? ? ? ? ? ? ? ? ? ? ? ? ? ? ? ? ? ? ? ? ? ? ? ? ? ? ? ? ? ? ? ? ? ? ? ? ? ? ? ? ? ? ? ? ? ? ? ? ? ? ? ? ? ? ? ? ? ? ? ? ? ? ? ? ? ? ? ? ? ? ? ? ? ? ? ? ? ? ? ? ? ? ? ? ? ? ? ? ? ? ? ? ? ? ? ? ? ? ? ? ? ? ? ? ? ? ? ? ? ? ? ? ? ? ?\n",
            "mom starting to fear son's web series closest thing she will have to grandchild\n",
            "1\n"
          ]
        }
      ]
    },
    {
      "cell_type": "code",
      "metadata": {
        "colab": {
          "base_uri": "https://localhost:8080/"
        },
        "id": "eGP_l5mZWuyg",
        "outputId": "3872fdfe-3713-4fe3-e75b-1fb623922b6a"
      },
      "source": [
        "e = model.layers[0]\n",
        "weights = e.get_weights()[0]\n",
        "print(weights.shape) # shape: (vocab_size, embedding_dim)"
      ],
      "execution_count": null,
      "outputs": [
        {
          "output_type": "stream",
          "name": "stdout",
          "text": [
            "(10000, 16)\n"
          ]
        }
      ]
    },
    {
      "cell_type": "code",
      "metadata": {
        "id": "U6ILtpI9W5F2"
      },
      "source": [
        "import io\n",
        "\n",
        "out_v = io.open('vecs.tsv', 'w', encoding='utf-8')\n",
        "out_m = io.open('meta.tsv', 'w', encoding='utf-8')\n",
        "for word_num in range(1, vocab_size):\n",
        "  word = reverse_word_index[word_num]\n",
        "  embeddings = weights[word_num]\n",
        "  out_m.write(word + \"\\n\")\n",
        "  out_v.write('\\t'.join([str(x) for x in embeddings]) + \"\\n\")\n",
        "out_v.close()\n",
        "out_m.close()\n"
      ],
      "execution_count": null,
      "outputs": []
    },
    {
      "cell_type": "code",
      "metadata": {
        "colab": {
          "base_uri": "https://localhost:8080/",
          "height": 17
        },
        "id": "Rh98GJvyW6Gh",
        "outputId": "e97df98d-b6b8-4b3f-e86f-8eaf988f1924"
      },
      "source": [
        "try:\n",
        "  from google.colab import files\n",
        "except ImportError:\n",
        "  pass\n",
        "else:\n",
        "  files.download('vecs.tsv')\n",
        "  files.download('meta.tsv')"
      ],
      "execution_count": null,
      "outputs": [
        {
          "output_type": "display_data",
          "data": {
            "application/javascript": [
              "\n",
              "    async function download(id, filename, size) {\n",
              "      if (!google.colab.kernel.accessAllowed) {\n",
              "        return;\n",
              "      }\n",
              "      const div = document.createElement('div');\n",
              "      const label = document.createElement('label');\n",
              "      label.textContent = `Downloading \"${filename}\": `;\n",
              "      div.appendChild(label);\n",
              "      const progress = document.createElement('progress');\n",
              "      progress.max = size;\n",
              "      div.appendChild(progress);\n",
              "      document.body.appendChild(div);\n",
              "\n",
              "      const buffers = [];\n",
              "      let downloaded = 0;\n",
              "\n",
              "      const channel = await google.colab.kernel.comms.open(id);\n",
              "      // Send a message to notify the kernel that we're ready.\n",
              "      channel.send({})\n",
              "\n",
              "      for await (const message of channel.messages) {\n",
              "        // Send a message to notify the kernel that we're ready.\n",
              "        channel.send({})\n",
              "        if (message.buffers) {\n",
              "          for (const buffer of message.buffers) {\n",
              "            buffers.push(buffer);\n",
              "            downloaded += buffer.byteLength;\n",
              "            progress.value = downloaded;\n",
              "          }\n",
              "        }\n",
              "      }\n",
              "      const blob = new Blob(buffers, {type: 'application/binary'});\n",
              "      const a = document.createElement('a');\n",
              "      a.href = window.URL.createObjectURL(blob);\n",
              "      a.download = filename;\n",
              "      div.appendChild(a);\n",
              "      a.click();\n",
              "      div.remove();\n",
              "    }\n",
              "  "
            ],
            "text/plain": [
              "<IPython.core.display.Javascript object>"
            ]
          },
          "metadata": {}
        },
        {
          "output_type": "display_data",
          "data": {
            "application/javascript": [
              "download(\"download_37e8ea54-d27e-4c8a-a0ce-8e4f74df374a\", \"vecs.tsv\", 1764739)"
            ],
            "text/plain": [
              "<IPython.core.display.Javascript object>"
            ]
          },
          "metadata": {}
        },
        {
          "output_type": "display_data",
          "data": {
            "application/javascript": [
              "\n",
              "    async function download(id, filename, size) {\n",
              "      if (!google.colab.kernel.accessAllowed) {\n",
              "        return;\n",
              "      }\n",
              "      const div = document.createElement('div');\n",
              "      const label = document.createElement('label');\n",
              "      label.textContent = `Downloading \"${filename}\": `;\n",
              "      div.appendChild(label);\n",
              "      const progress = document.createElement('progress');\n",
              "      progress.max = size;\n",
              "      div.appendChild(progress);\n",
              "      document.body.appendChild(div);\n",
              "\n",
              "      const buffers = [];\n",
              "      let downloaded = 0;\n",
              "\n",
              "      const channel = await google.colab.kernel.comms.open(id);\n",
              "      // Send a message to notify the kernel that we're ready.\n",
              "      channel.send({})\n",
              "\n",
              "      for await (const message of channel.messages) {\n",
              "        // Send a message to notify the kernel that we're ready.\n",
              "        channel.send({})\n",
              "        if (message.buffers) {\n",
              "          for (const buffer of message.buffers) {\n",
              "            buffers.push(buffer);\n",
              "            downloaded += buffer.byteLength;\n",
              "            progress.value = downloaded;\n",
              "          }\n",
              "        }\n",
              "      }\n",
              "      const blob = new Blob(buffers, {type: 'application/binary'});\n",
              "      const a = document.createElement('a');\n",
              "      a.href = window.URL.createObjectURL(blob);\n",
              "      a.download = filename;\n",
              "      div.appendChild(a);\n",
              "      a.click();\n",
              "      div.remove();\n",
              "    }\n",
              "  "
            ],
            "text/plain": [
              "<IPython.core.display.Javascript object>"
            ]
          },
          "metadata": {}
        },
        {
          "output_type": "display_data",
          "data": {
            "application/javascript": [
              "download(\"download_d756f64a-0aee-4706-bb6c-c9f2f28312cb\", \"meta.tsv\", 76515)"
            ],
            "text/plain": [
              "<IPython.core.display.Javascript object>"
            ]
          },
          "metadata": {}
        }
      ]
    },
    {
      "cell_type": "code",
      "metadata": {
        "colab": {
          "base_uri": "https://localhost:8080/"
        },
        "id": "L4frexlTW9XF",
        "outputId": "7f15caf0-84b3-4974-ee1b-4c0871c4e88c"
      },
      "source": [
        "\n",
        "sentence = [\"granny starting to fear spiders in the garden might be real\", \"game of thrones season finale showing this sunday night\"]\n",
        "sequences = tokenizer.texts_to_sequences(sentence)\n",
        "padded = pad_sequences(sequences, maxlen=max_length, padding=padding_type, truncating=trunc_type)\n",
        "print(model.predict(padded))"
      ],
      "execution_count": null,
      "outputs": [
        {
          "output_type": "stream",
          "name": "stdout",
          "text": [
            "[[0.6976842]\n",
            " [0.1657508]]\n"
          ]
        }
      ]
    }
  ]
}